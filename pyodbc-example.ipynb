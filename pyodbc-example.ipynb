{
 "cells": [
  {
   "cell_type": "code",
   "execution_count": 1,
   "id": "22b7e3da-4660-4568-909e-bf7986cc15fa",
   "metadata": {},
   "outputs": [],
   "source": [
    "import pyodbc\n",
    "import os"
   ]
  },
  {
   "cell_type": "code",
   "execution_count": 18,
   "id": "23e8bf20-4afe-4419-9336-24977639d23b",
   "metadata": {},
   "outputs": [],
   "source": [
    "# KLC\n",
    "driver = \"/software/simba/athenaodbc/lib/64/libathenaodbc_sb64.so\"\n",
    "\n",
    "# MacOS\n",
    "# driver = \"/Library/simba/athenaodbc/lib/libathenaodbc_sb64.dylib\"\n",
    "\n",
    "# Windows\n",
    "# driver = \"C:/Simba/lib/AthenaODBC_sb64.dll\""
   ]
  },
  {
   "cell_type": "code",
   "execution_count": 19,
   "id": "d42ce150-36b7-43b5-a80b-fd527d74e817",
   "metadata": {},
   "outputs": [
    {
     "name": "stdout",
     "output_type": "stream",
     "text": [
      "Driver=C:/Simba/lib/AthenaODBC_sb64.dll;AwsRegion=us-east-2;Workgroup=equifax;AuthenticationType=IAM Profile;AWSProfile=default;\n"
     ]
    }
   ],
   "source": [
    "region = \"us-east-2\"\n",
    "# s3output = \"s3://kellogg-comscore\" # <- only needed if workgroup doesn't specify\n",
    "\n",
    "# Use with DNS entry in ~/.odbc.ini file:\n",
    "\n",
    "# dsn = \"SimbaAthenaTaxi\"\n",
    "# workgroup = \"TaxiTest\"\n",
    "# conn_str = \"DSN={dsn};AwsRegion={region};Workgroup={workgroup};\"\n",
    "\n",
    "# Use with no DNS entry and there is a credentials file:\n",
    "\n",
    "# auth_type = \"IAM Profile\"\n",
    "# aws_profile = \"TaxiTest\"\n",
    "# workgroup = \"TaxiTest\"\n",
    "\n",
    "auth_type = \"IAM Profile\"\n",
    "aws_profile = \"default\"\n",
    "workgroup = \"equifax\"\n",
    "conn_str = f\"Driver={driver};AwsRegion={region};Workgroup={workgroup};AuthenticationType={auth_type};AWSProfile={aws_profile};\"\n",
    "\n",
    "print(conn_str)"
   ]
  },
  {
   "cell_type": "code",
   "execution_count": 20,
   "id": "3595ace1-88c2-42ea-8dde-cef6f78ebd79",
   "metadata": {},
   "outputs": [
    {
     "ename": "InterfaceError",
     "evalue": "('IM002', '[IM002] [Microsoft][ODBC Driver Manager] Data source name not found and no default driver specified (0) (SQLDriverConnect)')",
     "output_type": "error",
     "traceback": [
      "\u001b[1;31m---------------------------------------------------------------------------\u001b[0m",
      "\u001b[1;31mInterfaceError\u001b[0m                            Traceback (most recent call last)",
      "Cell \u001b[1;32mIn[20], line 1\u001b[0m\n\u001b[1;32m----> 1\u001b[0m cnxn \u001b[38;5;241m=\u001b[39m \u001b[43mpyodbc\u001b[49m\u001b[38;5;241;43m.\u001b[39;49m\u001b[43mconnect\u001b[49m\u001b[43m(\u001b[49m\u001b[43mconn_str\u001b[49m\u001b[43m)\u001b[49m\n",
      "\u001b[1;31mInterfaceError\u001b[0m: ('IM002', '[IM002] [Microsoft][ODBC Driver Manager] Data source name not found and no default driver specified (0) (SQLDriverConnect)')"
     ]
    }
   ],
   "source": [
    "cnxn = pyodbc.connect(conn_str)"
   ]
  },
  {
   "cell_type": "code",
   "execution_count": null,
   "id": "e1836bbf-c7a8-4a33-bbca-6ab3fa231e98",
   "metadata": {},
   "outputs": [],
   "source": [
    "cursor = cnxn.cursor() \n",
    "# rows = cursor.execute('SELECT * FROM \"taxi\".\"fare\" limit 10;').fetchall()\n",
    "# rows = cursor.execute('SELECT * FROM \"equifax\".\"equifax\" limit 10;').fetchall()\n",
    "rows = cursor.execute('SELECT * FROM \"comscore\".\"url\" limit 10;').fetchall()\n",
    "for row in rows:\n",
    "    print(row)"
   ]
  },
  {
   "cell_type": "code",
   "execution_count": null,
   "id": "f87a25f6-0033-4b14-9cb6-b6b7e1ed27bf",
   "metadata": {},
   "outputs": [],
   "source": []
  }
 ],
 "metadata": {
  "kernelspec": {
   "display_name": "Python 3 (ipykernel)",
   "language": "python",
   "name": "python3"
  },
  "language_info": {
   "codemirror_mode": {
    "name": "ipython",
    "version": 3
   },
   "file_extension": ".py",
   "mimetype": "text/x-python",
   "name": "python",
   "nbconvert_exporter": "python",
   "pygments_lexer": "ipython3",
   "version": "3.10.8"
  }
 },
 "nbformat": 4,
 "nbformat_minor": 5
}
