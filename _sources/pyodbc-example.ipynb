{
 "cells": [
  {
   "cell_type": "code",
   "execution_count": 2,
   "id": "22b7e3da-4660-4568-909e-bf7986cc15fa",
   "metadata": {},
   "outputs": [],
   "source": [
    "import pyodbc\n",
    "import os"
   ]
  },
  {
   "cell_type": "code",
   "execution_count": 3,
   "id": "23e8bf20-4afe-4419-9336-24977639d23b",
   "metadata": {},
   "outputs": [],
   "source": [
    "# KLC\n",
    "driver = \"/software/simba/athenaodbc/lib/64/libathenaodbc_sb64.so\"\n",
    "\n",
    "# MacOS\n",
    "# driver = \"/Library/simba/athenaodbc/lib/libathenaodbc_sb64.dylib\"\n",
    "\n",
    "# Windows\n",
    "# driver = \"C:/Simba/lib/AthenaODBC_sb64.dll\""
   ]
  },
  {
   "cell_type": "code",
   "execution_count": 18,
   "id": "d42ce150-36b7-43b5-a80b-fd527d74e817",
   "metadata": {},
   "outputs": [
    {
     "name": "stdout",
     "output_type": "stream",
     "text": [
      "Driver=/software/simba/athenaodbc/lib/64/libathenaodbc_sb64.so;AwsRegion=us-east-2;Workgroup=primary;AuthenticationType=IAM Profile;AWSProfile=kdc-admin;S3OutputLocation=s3://kdc-query-results\n"
     ]
    }
   ],
   "source": [
    "region = \"us-east-2\"\n",
    "auth_type = \"IAM Profile\"\n",
    "aws_profile = \"kdc-admin\"\n",
    "workgroup = \"primary\"\n",
    "s3output = \"s3://kdc-query-results\"\n",
    "conn_str = f\"Driver={driver};AwsRegion={region};Workgroup={workgroup};AuthenticationType={auth_type};AWSProfile={aws_profile};S3OutputLocation={s3output}\"\n",
    "\n",
    "print(conn_str)"
   ]
  },
  {
   "cell_type": "code",
   "execution_count": 19,
   "id": "3595ace1-88c2-42ea-8dde-cef6f78ebd79",
   "metadata": {},
   "outputs": [],
   "source": [
    "cnxn = pyodbc.connect(conn_str)"
   ]
  },
  {
   "cell_type": "code",
   "execution_count": 20,
   "id": "e1836bbf-c7a8-4a33-bbca-6ab3fa231e98",
   "metadata": {},
   "outputs": [
    {
     "name": "stdout",
     "output_type": "stream",
     "text": [
      "(280941118, 'a08Z8Hrt4YmXK7M2zjyme0', 455530395, 661124051, 7651, 'live.com', 'word-edit.officeapps.live.com', 'we', 'OneNote.ashx', 'live.com', 'word-edit.officeapps.live.com', 'we', 'wordeditorframe.aspx', 'application/json', '200', 'SECURE', 'SECURE', 8460241, '2020', '12', '11')\n",
      "(280941118, 'bTj7Ph_zkUtFSlHm5lz073', 455530395, 661113073, 7651, 'live.com', 'word-edit.officeapps.live.com', 'we', 'OneNote.ashx', 'live.com', 'word-edit.officeapps.live.com', 'we', 'wordeditorframe.aspx', 'application/json', '200', 'SECURE', 'SECURE', 8460241, '2020', '12', '11')\n",
      "(280941118, 'be_POxfuQdmGsAXaTl1G36', 455530395, 661111553, 7651, 'live.com', 'word-edit.officeapps.live.com', 'we', 'OneNote.ashx', 'live.com', 'word-edit.officeapps.live.com', 'we', 'wordeditorframe.aspx', 'application/json', '200', 'SECURE', 'SECURE', 8460241, '2020', '12', '11')\n",
      "(280941118, 'dBzTyFi14Im9S12EQNuB49', 455530395, 661111596, 7651, 'office.com', 'outlook.office.com', 'owa', 'service.svc', None, None, None, None, 'application/json', '200', 'SECURE', 'SECURE', 21991724, '2020', '12', '11')\n",
      "(280941118, 'ePC8oVYY4kLr_78ExW0J51', 455530395, 661106592, 7651, 'office.com', 'outlook.office.com', 'owa', 'service.svc', None, None, None, None, 'application/json', '200', 'SECURE', 'SECURE', 21991724, '2020', '12', '11')\n",
      "(280941118, 'ea7eghFWk4zVL_L_fhQ869', 455530395, 661112078, 7651, 'tuhsd.org', 'synergy.tuhsd.org', 'api/GB/ReportsDX', 'ReportsForPage', 'tuhsd.org', 'synergy.tuhsd.org', '/', 'TS_SeatingChart.aspx', 'application/json', '200', 'SECURE', 'SECURE', 1, '2020', '12', '11')\n",
      "(280941118, 'exw1rmv$QiIbs62OZbW174', 455530395, 661102956, 7651, 'live.com', 'word-edit.officeapps.live.com', 'we', 'OneNote.ashx', 'live.com', 'word-edit.officeapps.live.com', 'we', 'wordeditorframe.aspx', 'application/json', '200', 'SECURE', 'SECURE', 8460241, '2020', '12', '11')\n",
      "(280941118, 'fP4uLGcHQ$UWg0iW9_R3e8', 455530395, 661098380, 7651, 'loom.com', 'api.sgmt.loom.com', 'v1', 't', 'loom.com', 'www.loom.com', '/', '/', 'application/json', '200', 'SECURE', 'SECURE', 1, '2020', '12', '11')\n",
      "(280941118, 'gr3epTg_4oIFUbWWFcsx09', 455530395, 661104384, 7651, 'live.com', 'word-edit.officeapps.live.com', 'we', 'proofing.ashx', 'live.com', 'word-edit.officeapps.live.com', 'we', 'wordeditorframe.aspx', 'application/json', '200', 'SECURE', 'SECURE', 11331716, '2020', '12', '11')\n",
      "(280941118, 'h5yigWEYkpnpX5mYlzB2c7', 455530395, 661112611, 7651, 'live.com', 'word-edit.officeapps.live.com', 'we', 'OneNote.ashx', 'live.com', 'word-edit.officeapps.live.com', 'we', 'wordeditorframe.aspx', 'application/json', '200', 'SECURE', 'SECURE', 8460241, '2020', '12', '11')\n"
     ]
    }
   ],
   "source": [
    "cursor = cnxn.cursor() \n",
    "# rows = cursor.execute('SELECT * FROM \"taxi\".\"fare\" limit 10;').fetchall()\n",
    "# rows = cursor.execute('SELECT * FROM \"equifax\".\"equifax\" limit 10;').fetchall()\n",
    "rows = cursor.execute('SELECT * FROM \"comscore\".\"url\" limit 10;').fetchall()\n",
    "for row in rows:\n",
    "    print(row)"
   ]
  },
  {
   "cell_type": "code",
   "execution_count": null,
   "id": "f87a25f6-0033-4b14-9cb6-b6b7e1ed27bf",
   "metadata": {},
   "outputs": [],
   "source": []
  }
 ],
 "metadata": {
  "kernelspec": {
   "display_name": "Python 3 (ipykernel)",
   "language": "python",
   "name": "python3"
  },
  "language_info": {
   "codemirror_mode": {
    "name": "ipython",
    "version": 3
   },
   "file_extension": ".py",
   "mimetype": "text/x-python",
   "name": "python",
   "nbconvert_exporter": "python",
   "pygments_lexer": "ipython3",
   "version": "3.10.8"
  }
 },
 "nbformat": 4,
 "nbformat_minor": 5
}
