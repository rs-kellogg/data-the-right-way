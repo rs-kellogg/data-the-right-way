{
 "cells": [
  {
   "cell_type": "code",
   "execution_count": 1,
   "id": "22b7e3da-4660-4568-909e-bf7986cc15fa",
   "metadata": {},
   "outputs": [],
   "source": [
    "import pyodbc"
   ]
  },
  {
   "cell_type": "code",
   "execution_count": 2,
   "id": "d42ce150-36b7-43b5-a80b-fd527d74e817",
   "metadata": {},
   "outputs": [
    {
     "name": "stdout",
     "output_type": "stream",
     "text": [
      "Driver=/software/simba/athenaodbc/lib/64/libathenaodbc_sb64.so;AwsRegion=us-east-2;Workgroup=primary;AuthenticationType=IAM Profile;AWSProfile=kdc-admin;S3OutputLocation=s3://kdc-query-results\n"
     ]
    }
   ],
   "source": [
    "# KLC: module load simbaathena\n",
    "driver = \"/software/simba/athenaodbc/lib/64/libathenaodbc_sb64.so\"\n",
    "region = \"us-east-2\"\n",
    "auth_type = \"IAM Profile\"\n",
    "aws_profile = \"kdc-admin\"\n",
    "workgroup = \"primary\"\n",
    "s3output = \"s3://kdc-query-results\"\n",
    "conn_str = f\"Driver={driver};AwsRegion={region};Workgroup={workgroup};AuthenticationType={auth_type};AWSProfile={aws_profile};S3OutputLocation={s3output}\"\n",
    "print(conn_str)"
   ]
  },
  {
   "cell_type": "code",
   "execution_count": 3,
   "id": "e1836bbf-c7a8-4a33-bbca-6ab3fa231e98",
   "metadata": {},
   "outputs": [
    {
     "name": "stdout",
     "output_type": "stream",
     "text": [
      "(338959044, '5cuKbZP_Q7Z85F9mRKoK00', 0, 660764353, 7647, 'bing.com', 'www.bing.com', 'rp', 'XJ8OmILbNhm0zU9tdkuGYeXVPRQ.br.js', 'bing.com', 'www.bing.com', '/', 'search', 'application/x-javascript', '299', 'SECURE', 'SECURE', 6145788, '2020', '12', '07')\n",
      "(338959044, '7AU2lwGP4SLV1OUgYIzIa7', 0, 660752859, 7647, 'bing.com', 'www.bing.com', 'rp', '4y6pZwZWwXEuYdE6rQo7UKs546g.br.js', 'bing.com', 'www.bing.com', '/', 'search', 'application/x-javascript', '299', 'SECURE', 'SECURE', 6145788, '2020', '12', '07')\n",
      "(338959044, 'BdLwicELQd6UA16bIVks07', 0, 660752956, 7647, 'googletagservices.com', 'www.googletagservices.com', 'activeview/js/current', 'rx_lidar.js', 'imdb.com', 'www.imdb.com', '/', '/', 'text/javascript', '299', 'SECURE', 'SECURE', 13082817, '2020', '12', '07')\n",
      "(338959044, 'FQ_9UH4m4NuHIRlCzz0tbf', 0, 660753312, 7647, 'bing.com', 'www.bing.com', 'rp', 'jqTogFimeR6IbRU356bMp74nuBw.br.js', 'bing.com', 'www.bing.com', '/', 'search', 'application/x-javascript', '299', 'SECURE', 'SECURE', 6145788, '2020', '12', '07')\n",
      "(338959044, 'GkAXpxyEklybdLwBapb876', 0, 660753500, 7647, 'bing.com', 'www.bing.com', 'rp', 'q4VSd33q4xcSSQ8NE0saGcyEMRg.br.js', 'bing.com', 'www.bing.com', '/', 'search', 'application/x-javascript', '299', 'SECURE', 'SECURE', 6145788, '2020', '12', '07')\n",
      "(338959044, 'I$an6xB9A$4EZYzxB4s5eb', 0, 660753476, 7647, 'bing.com', 'www.bing.com', 'rp', 'DThxslquCdeQRYJQMKTP_PM7PqA.br.js', 'bing.com', 'www.bing.com', '/', 'search', 'application/x-javascript', '299', 'SECURE', 'SECURE', 6145788, '2020', '12', '07')\n",
      "(338959044, 'K4SmVd8EQbU9hAUnSAIy6e', 0, 660765380, 7647, 'eye-square.com', 'recording-scheduler.eye-square.com', 'scheduler/sessions/a4fa7551-0433-4ec8-8271-2a59c7cd7798/next', '/', 'eye-square.com', 'browser-hub.eye-square.com', '/', '/', 'application/json', '200', 'SECURE', 'SECURE', 18710083, '2020', '12', '07')\n",
      "(338959044, 'OMqMGUEkQkfa8c7F0$5Ha7', 0, 660761308, 7647, 'connexus.com', 'www.connexus.com', 'api', 'lists', 'connexus.com', 'www.connexus.com', '/', 'homepage', 'application/json', '200', 'SECURE', 'SECURE', 11205286, '2020', '12', '07')\n",
      "(338959044, 'R8n5d_BSQAOoLG8dTLN89d', 0, 660759695, 7647, 'facebook.com', 'apps.facebook.com', 'games/async/navigationslider', '/', 'facebook.com', 'apps.facebook.com', 'candycrush', '/', 'application/x-javascript', '200', 'SECURE', 'SECURE', 4761456, '2020', '12', '07')\n",
      "(338959044, 'RMT7DXwL4ZLaJ2LAjB9p82', 0, 660752666, 7647, 'bing.com', 'www.bing.com', 'rp', 'ID-70CBAEOXh6Nwxga-CxgpUq4k.br.js', 'bing.com', 'www.bing.com', '/', 'search', 'application/x-javascript', '299', 'SECURE', 'SECURE', 6145788, '2020', '12', '07')\n"
     ]
    }
   ],
   "source": [
    "cnxn = pyodbc.connect(conn_str)\n",
    "cursor = cnxn.cursor() \n",
    "rows = cursor.execute('SELECT * FROM \"comscore\".\"url\" limit 10;').fetchall()\n",
    "for row in rows:\n",
    "    print(row)"
   ]
  }
 ],
 "metadata": {
  "kernelspec": {
   "display_name": "Python 3 (ipykernel)",
   "language": "python",
   "name": "python3"
  },
  "language_info": {
   "codemirror_mode": {
    "name": "ipython",
    "version": 3
   },
   "file_extension": ".py",
   "mimetype": "text/x-python",
   "name": "python",
   "nbconvert_exporter": "python",
   "pygments_lexer": "ipython3",
   "version": "3.10.8"
  }
 },
 "nbformat": 4,
 "nbformat_minor": 5
}
