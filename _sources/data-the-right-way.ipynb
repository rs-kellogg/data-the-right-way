{
 "cells": [
  {
   "cell_type": "markdown",
   "id": "0c8feac7",
   "metadata": {},
   "source": [
    "# Data the Right Way"
   ]
  },
  {
   "cell_type": "markdown",
   "id": "25769417",
   "metadata": {},
   "source": [
    "# Data the Right Way\n",
    "\n",
    "- These workshop materials cover some highlights on how to work with datasets at Kellogg. \n",
    "\n",
    "- We will look at how to query datasets hosted Kellogg Data Cloud (KDC), as well as datasets hosted on the Kellogg Linux Cluster (KLC)\n",
    "\n",
    "- We will also provide some tips on how to automate data workflows in order to make your research more easily reproducible. Your future self will thank you!"
   ]
  },
  {
   "cell_type": "markdown",
   "id": "f801c36d",
   "metadata": {},
   "source": [
    "![Data Workflow](images/data-pipeline.png)"
   ]
  },
  {
   "cell_type": "code",
   "execution_count": null,
   "id": "7dcc2cec",
   "metadata": {},
   "outputs": [],
   "source": []
  }
 ],
 "metadata": {
  "kernelspec": {
   "display_name": "Python 3 (ipykernel)",
   "language": "python",
   "name": "python3"
  },
  "language_info": {
   "codemirror_mode": {
    "name": "ipython",
    "version": 3
   },
   "file_extension": ".py",
   "mimetype": "text/x-python",
   "name": "python",
   "nbconvert_exporter": "python",
   "pygments_lexer": "ipython3",
   "version": "3.10.8"
  }
 },
 "nbformat": 4,
 "nbformat_minor": 5
}
