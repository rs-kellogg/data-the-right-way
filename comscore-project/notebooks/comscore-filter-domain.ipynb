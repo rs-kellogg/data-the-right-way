{
 "cells": [
  {
   "cell_type": "code",
   "execution_count": 2,
   "id": "4dceef63-b0fe-4940-9459-a59b71fffc68",
   "metadata": {},
   "outputs": [],
   "source": [
    "%load_ext autoreload\n",
    "%autoreload 2"
   ]
  },
  {
   "cell_type": "code",
   "execution_count": 3,
   "id": "65c75763-7ddb-4d2a-8ad5-42a4074cd8ee",
   "metadata": {},
   "outputs": [],
   "source": [
    "import pandas as pd\n",
    "import datetime as dt\n",
    "import time\n",
    "import jinja2\n",
    "from jinja2 import Environment, BaseLoader\n",
    "from wrangler.aws import athena"
   ]
  },
  {
   "cell_type": "code",
   "execution_count": 4,
   "id": "5adae7d4-d971-4b61-a385-82be995cd885",
   "metadata": {},
   "outputs": [],
   "source": [
    "sql_template = \"\"\"\n",
    "UNLOAD (\n",
    "SELECT \n",
    "    u.machine_id,\n",
    "    u.url_idc, \n",
    "    u.person_id, \n",
    "    u.ss2k, \n",
    "    u.time_id, \n",
    "    u.domain_name, \n",
    "    u.url_host, \n",
    "    u.url_dir, \n",
    "    u.url_page, \n",
    "    u.url_refer_domain, \n",
    "    u.url_refer_host, \n",
    "    u.url_refer_dir, \n",
    "    u.url_refer_page, \n",
    "    u.mimetype, \n",
    "    u.http_rc, \n",
    "    u.keywords, \n",
    "    u.html_title, \n",
    "    u.pattern_id\n",
    "FROM \"comscore\".\"url\" as u\n",
    "WHERE \n",
    "    u.year='{{year}}'\n",
    "    and u.month='{{month}}'\n",
    "    and u.day='{{day}}'\n",
    "    and (u.domain_name LIKE '%twitch%')\n",
    ") \n",
    "TO 's3://kdc-comscore/parquet-extracts/url_{{domain}}/year={{year}}/month={{month}}/day={{day}}' \n",
    "WITH ( format = 'parquet', compression = 'snappy' )\n",
    "\"\"\"\n",
    "\n",
    "template = Environment(loader=BaseLoader()).from_string(sql_template)"
   ]
  },
  {
   "cell_type": "code",
   "execution_count": 5,
   "id": "259efc37-1cff-4a04-8d03-024bbee27b53",
   "metadata": {},
   "outputs": [
    {
     "name": "stdout",
     "output_type": "stream",
     "text": [
      "################################################################################\n",
      "# executing for date range: ('2019', '01', '01') -> ('2019', '01', '02')\n",
      "################################################################################\n",
      "('2019', '01', '01'): STARTED\n",
      "('2019', '01', '02'): STARTED\n",
      ">>> Running: 1, Completed: 1\n",
      ">>> Running: 0, Completed: 2\n",
      "number of results: 2\n",
      "CPU times: user 342 ms, sys: 43.7 ms, total: 386 ms\n",
      "Wall time: 13.2 s\n"
     ]
    }
   ],
   "source": [
    "%%time\n",
    "\n",
    "results = athena.run_daily(\n",
    "    \"kdc-admin\",\n",
    "    \"us-east-2\",\n",
    "    template,\n",
    "    start_date = dt.datetime(2019, 1, 1),\n",
    "    end_date = dt.datetime(2019, 1, 2),\n",
    "    database = \"comscore\",\n",
    "    args = {\n",
    "    },\n",
    "    batch_size = 50\n",
    ")\n",
    "print(f\"number of results: {len(results)}\")"
   ]
  },
  {
   "cell_type": "code",
   "execution_count": 10,
   "id": "3fb928df-119b-40d7-b561-c8da84680f04",
   "metadata": {},
   "outputs": [
    {
     "data": {
      "text/plain": [
       "(('2019', '01', '01'),\n",
       " {'QueryExecution': {'QueryExecutionId': '4dfee1f5-f09b-48a0-953b-0f0b0c3ed193',\n",
       "   'Query': 'UNLOAD (\\nSELECT \\n    u.machine_id,\\n    u.url_idc, \\n    u.person_id, \\n    u.ss2k, \\n    u.time_id, \\n    u.domain_name, \\n    u.url_host, \\n    u.url_dir, \\n    u.url_page, \\n    u.url_refer_domain, \\n    u.url_refer_host, \\n    u.url_refer_dir, \\n    u.url_refer_page, \\n    u.mimetype, \\n    u.http_rc, \\n    u.keywords, \\n    u.html_title, \\n    u.pattern_id\\nFROM \"comscore\".\"url\" as u\\nWHERE \\n    u.year=\\'2019\\'\\n    and u.month=\\'01\\'\\n    and u.day=\\'01\\'\\n    and (u.domain_name LIKE \\'%twitch%\\')\\n) \\nTO \\'s3://kdc-comscore/parquet-extracts/url_/year=2019/month=01/day=01\\' \\nWITH ( format = \\'parquet\\', compression = \\'snappy\\' )',\n",
       "   'StatementType': 'DML',\n",
       "   'ResultConfiguration': {'OutputLocation': 's3://kdc-query-results/4dfee1f5-f09b-48a0-953b-0f0b0c3ed193'},\n",
       "   'ResultReuseConfiguration': {'ResultReuseByAgeConfiguration': {'Enabled': False}},\n",
       "   'QueryExecutionContext': {'Database': 'comscore'},\n",
       "   'Status': {'State': 'SUCCEEDED',\n",
       "    'SubmissionDateTime': datetime.datetime(2023, 1, 16, 21, 20, 31, 895000, tzinfo=tzlocal()),\n",
       "    'CompletionDateTime': datetime.datetime(2023, 1, 16, 21, 20, 41, 464000, tzinfo=tzlocal())},\n",
       "   'Statistics': {'EngineExecutionTimeInMillis': 9383,\n",
       "    'DataScannedInBytes': 15947494809,\n",
       "    'DataManifestLocation': 's3://kdc-query-results/4dfee1f5-f09b-48a0-953b-0f0b0c3ed193-manifest.csv',\n",
       "    'TotalExecutionTimeInMillis': 9569,\n",
       "    'QueryQueueTimeInMillis': 156,\n",
       "    'QueryPlanningTimeInMillis': 296,\n",
       "    'ServiceProcessingTimeInMillis': 30,\n",
       "    'ResultReuseInformation': {'ReusedPreviousResult': False}},\n",
       "   'WorkGroup': 'primary',\n",
       "   'EngineVersion': {'SelectedEngineVersion': 'Athena engine version 3',\n",
       "    'EffectiveEngineVersion': 'Athena engine version 3'}},\n",
       "  'ResponseMetadata': {'RequestId': '24071305-93b6-438e-9f89-0791d76bcdd8',\n",
       "   'HTTPStatusCode': 200,\n",
       "   'HTTPHeaders': {'date': 'Tue, 17 Jan 2023 03:20:41 GMT',\n",
       "    'content-type': 'application/x-amz-json-1.1',\n",
       "    'content-length': '2903',\n",
       "    'connection': 'keep-alive',\n",
       "    'x-amzn-requestid': '24071305-93b6-438e-9f89-0791d76bcdd8'},\n",
       "   'RetryAttempts': 0}})"
      ]
     },
     "execution_count": 10,
     "metadata": {},
     "output_type": "execute_result"
    }
   ],
   "source": [
    "results[0]"
   ]
  },
  {
   "cell_type": "code",
   "execution_count": 18,
   "id": "2251d6b4-449d-40a7-a260-a17ab70b4549",
   "metadata": {},
   "outputs": [
    {
     "data": {
      "text/html": [
       "<div>\n",
       "<style scoped>\n",
       "    .dataframe tbody tr th:only-of-type {\n",
       "        vertical-align: middle;\n",
       "    }\n",
       "\n",
       "    .dataframe tbody tr th {\n",
       "        vertical-align: top;\n",
       "    }\n",
       "\n",
       "    .dataframe thead th {\n",
       "        text-align: right;\n",
       "    }\n",
       "</style>\n",
       "<table border=\"1\" class=\"dataframe\">\n",
       "  <thead>\n",
       "    <tr style=\"text-align: right;\">\n",
       "      <th></th>\n",
       "      <th>date</th>\n",
       "      <th>query_id</th>\n",
       "      <th>query_sql</th>\n",
       "      <th>state</th>\n",
       "    </tr>\n",
       "  </thead>\n",
       "  <tbody>\n",
       "    <tr>\n",
       "      <th>0</th>\n",
       "      <td>2019-01-01</td>\n",
       "      <td>4dfee1f5-f09b-48a0-953b-0f0b0c3ed193</td>\n",
       "      <td>UNLOAD (\\nSELECT \\n    u.machine_id,\\n    u.ur...</td>\n",
       "      <td>SUCCEEDED</td>\n",
       "    </tr>\n",
       "    <tr>\n",
       "      <th>1</th>\n",
       "      <td>2019-01-02</td>\n",
       "      <td>ae379792-38bb-48c6-9cdc-0a5949f08dda</td>\n",
       "      <td>UNLOAD (\\nSELECT \\n    u.machine_id,\\n    u.ur...</td>\n",
       "      <td>SUCCEEDED</td>\n",
       "    </tr>\n",
       "  </tbody>\n",
       "</table>\n",
       "</div>"
      ],
      "text/plain": [
       "         date                              query_id  \\\n",
       "0  2019-01-01  4dfee1f5-f09b-48a0-953b-0f0b0c3ed193   \n",
       "1  2019-01-02  ae379792-38bb-48c6-9cdc-0a5949f08dda   \n",
       "\n",
       "                                           query_sql      state  \n",
       "0  UNLOAD (\\nSELECT \\n    u.machine_id,\\n    u.ur...  SUCCEEDED  \n",
       "1  UNLOAD (\\nSELECT \\n    u.machine_id,\\n    u.ur...  SUCCEEDED  "
      ]
     },
     "execution_count": 18,
     "metadata": {},
     "output_type": "execute_result"
    }
   ],
   "source": [
    "rows = []\n",
    "for r in results:\n",
    "    date = \"-\".join(r[0])\n",
    "    query_id = r[1]['QueryExecution']['QueryExecutionId']\n",
    "    query_sql = r[1]['QueryExecution']['Query']\n",
    "    state = r[1]['QueryExecution']['Status']['State']\n",
    "    rows.append((date, query_id, query_sql, state))\n",
    "\n",
    "pd.DataFrame(rows, columns=['date', 'query_id', \"query_sql\", \"state\"])"
   ]
  },
  {
   "cell_type": "code",
   "execution_count": null,
   "id": "7aab3e57-8477-4728-975a-ee5577e145a8",
   "metadata": {},
   "outputs": [],
   "source": [
    "# ! aws s3 sync s3://kdc-comscore/parquet-extracts . --profile kdc-admin"
   ]
  },
  {
   "cell_type": "code",
   "execution_count": 31,
   "id": "2283493e-f96f-4c9d-966f-c1dca7019e91",
   "metadata": {},
   "outputs": [],
   "source": [
    "df = pd.read_parquet(\"url_twitch_steam\")"
   ]
  },
  {
   "cell_type": "code",
   "execution_count": 33,
   "id": "6b8c6bb5-b819-4034-a3d0-af5858daac12",
   "metadata": {},
   "outputs": [
    {
     "data": {
      "text/plain": [
       "(7009025, 21)"
      ]
     },
     "execution_count": 33,
     "metadata": {},
     "output_type": "execute_result"
    }
   ],
   "source": [
    "df.shape"
   ]
  }
 ],
 "metadata": {
  "kernelspec": {
   "display_name": "Python 3 (ipykernel)",
   "language": "python",
   "name": "python3"
  },
  "language_info": {
   "codemirror_mode": {
    "name": "ipython",
    "version": 3
   },
   "file_extension": ".py",
   "mimetype": "text/x-python",
   "name": "python",
   "nbconvert_exporter": "python",
   "pygments_lexer": "ipython3",
   "version": "3.10.8"
  }
 },
 "nbformat": 4,
 "nbformat_minor": 5
}
