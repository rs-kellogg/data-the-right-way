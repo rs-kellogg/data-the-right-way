{
 "cells": [
  {
   "cell_type": "code",
   "execution_count": 1,
   "id": "4dceef63-b0fe-4940-9459-a59b71fffc68",
   "metadata": {},
   "outputs": [],
   "source": [
    "%load_ext autoreload\n",
    "%autoreload 2"
   ]
  },
  {
   "cell_type": "code",
   "execution_count": 1,
   "id": "65c75763-7ddb-4d2a-8ad5-42a4074cd8ee",
   "metadata": {},
   "outputs": [],
   "source": [
    "import pandas as pd\n",
    "import datetime as dt\n",
    "import time\n",
    "import jinja2\n",
    "from jinja2 import Environment, BaseLoader\n",
    "import athena"
   ]
  },
  {
   "cell_type": "code",
   "execution_count": 2,
   "id": "5adae7d4-d971-4b61-a385-82be995cd885",
   "metadata": {},
   "outputs": [],
   "source": [
    "sql_template = \"\"\"\n",
    "UNLOAD (\n",
    "SELECT \n",
    "    u.machine_id,\n",
    "    u.url_idc, \n",
    "    u.person_id, \n",
    "    u.ss2k, \n",
    "    u.time_id, \n",
    "    u.domain_name, \n",
    "    u.url_host, \n",
    "    u.url_dir, \n",
    "    u.url_page, \n",
    "    u.url_refer_domain, \n",
    "    u.url_refer_host, \n",
    "    u.url_refer_dir, \n",
    "    u.url_refer_page, \n",
    "    u.mimetype, \n",
    "    u.http_rc, \n",
    "    u.keywords, \n",
    "    u.html_title, \n",
    "    u.pattern_id\n",
    "FROM \"comscore\".\"url\" as u\n",
    "WHERE \n",
    "    u.year='{{year}}'\n",
    "    and u.month='{{month}}'\n",
    "    and u.day='{{day}}'\n",
    "    and (u.domain_name LIKE '%twitch%')\n",
    ") \n",
    "TO 's3://kdc-comscore/parquet-extracts/url_{{domain}}/year={{year}}/month={{month}}/day={{day}}' \n",
    "WITH ( format = 'parquet', compression = 'snappy' )\n",
    "\"\"\"\n",
    "\n",
    "template = Environment(loader=BaseLoader()).from_string(sql_template)"
   ]
  },
  {
   "cell_type": "code",
   "execution_count": 3,
   "id": "259efc37-1cff-4a04-8d03-024bbee27b53",
   "metadata": {},
   "outputs": [
    {
     "data": {
      "text/html": [
       "<pre style=\"white-space:pre;overflow-x:auto;line-height:normal;font-family:Menlo,'DejaVu Sans Mono',consolas,'Courier New',monospace\"><span style=\"color: #008000; text-decoration-color: #008000; background-color: #000000\">################################################################################</span>\n",
       "</pre>\n"
      ],
      "text/plain": [
       "\u001b[32;40m################################################################################\u001b[0m\n"
      ]
     },
     "metadata": {},
     "output_type": "display_data"
    },
    {
     "data": {
      "text/html": [
       "<pre style=\"white-space:pre;overflow-x:auto;line-height:normal;font-family:Menlo,'DejaVu Sans Mono',consolas,'Courier New',monospace\"><span style=\"color: #008000; text-decoration-color: #008000; background-color: #000000\"># executing for date range: </span><span style=\"color: #008000; text-decoration-color: #008000; background-color: #000000; font-weight: bold\">(</span><span style=\"color: #008000; text-decoration-color: #008000; background-color: #000000\">'2019'</span><span style=\"color: #008000; text-decoration-color: #008000; background-color: #000000\">, </span><span style=\"color: #008000; text-decoration-color: #008000; background-color: #000000\">'01'</span><span style=\"color: #008000; text-decoration-color: #008000; background-color: #000000\">, </span><span style=\"color: #008000; text-decoration-color: #008000; background-color: #000000\">'01'</span><span style=\"color: #008000; text-decoration-color: #008000; background-color: #000000; font-weight: bold\">)</span><span style=\"color: #008000; text-decoration-color: #008000; background-color: #000000\"> -&gt; </span><span style=\"color: #008000; text-decoration-color: #008000; background-color: #000000; font-weight: bold\">(</span><span style=\"color: #008000; text-decoration-color: #008000; background-color: #000000\">'2019'</span><span style=\"color: #008000; text-decoration-color: #008000; background-color: #000000\">, </span><span style=\"color: #008000; text-decoration-color: #008000; background-color: #000000\">'01'</span><span style=\"color: #008000; text-decoration-color: #008000; background-color: #000000\">, </span><span style=\"color: #008000; text-decoration-color: #008000; background-color: #000000\">'02'</span><span style=\"color: #008000; text-decoration-color: #008000; background-color: #000000; font-weight: bold\">)</span>\n",
       "</pre>\n"
      ],
      "text/plain": [
       "\u001b[32;40m# executing for date range: \u001b[0m\u001b[1;32;40m(\u001b[0m\u001b[32;40m'2019'\u001b[0m\u001b[32;40m, \u001b[0m\u001b[32;40m'01'\u001b[0m\u001b[32;40m, \u001b[0m\u001b[32;40m'01'\u001b[0m\u001b[1;32;40m)\u001b[0m\u001b[32;40m -> \u001b[0m\u001b[1;32;40m(\u001b[0m\u001b[32;40m'2019'\u001b[0m\u001b[32;40m, \u001b[0m\u001b[32;40m'01'\u001b[0m\u001b[32;40m, \u001b[0m\u001b[32;40m'02'\u001b[0m\u001b[1;32;40m)\u001b[0m\n"
      ]
     },
     "metadata": {},
     "output_type": "display_data"
    },
    {
     "data": {
      "text/html": [
       "<pre style=\"white-space:pre;overflow-x:auto;line-height:normal;font-family:Menlo,'DejaVu Sans Mono',consolas,'Courier New',monospace\"><span style=\"color: #008000; text-decoration-color: #008000; background-color: #000000\">################################################################################</span>\n",
       "</pre>\n"
      ],
      "text/plain": [
       "\u001b[32;40m################################################################################\u001b[0m\n"
      ]
     },
     "metadata": {},
     "output_type": "display_data"
    },
    {
     "data": {
      "text/html": [
       "<pre style=\"white-space:pre;overflow-x:auto;line-height:normal;font-family:Menlo,'DejaVu Sans Mono',consolas,'Courier New',monospace\"><span style=\"color: #008000; text-decoration-color: #008000; background-color: #000000; font-weight: bold\">(</span><span style=\"color: #008000; text-decoration-color: #008000; background-color: #000000\">'2019'</span><span style=\"color: #008000; text-decoration-color: #008000; background-color: #000000\">, </span><span style=\"color: #008000; text-decoration-color: #008000; background-color: #000000\">'01'</span><span style=\"color: #008000; text-decoration-color: #008000; background-color: #000000\">, </span><span style=\"color: #008000; text-decoration-color: #008000; background-color: #000000\">'01'</span><span style=\"color: #008000; text-decoration-color: #008000; background-color: #000000; font-weight: bold\">)</span><span style=\"color: #008000; text-decoration-color: #008000; background-color: #000000\">: STARTED</span>\n",
       "</pre>\n"
      ],
      "text/plain": [
       "\u001b[1;32;40m(\u001b[0m\u001b[32;40m'2019'\u001b[0m\u001b[32;40m, \u001b[0m\u001b[32;40m'01'\u001b[0m\u001b[32;40m, \u001b[0m\u001b[32;40m'01'\u001b[0m\u001b[1;32;40m)\u001b[0m\u001b[32;40m: STARTED\u001b[0m\n"
      ]
     },
     "metadata": {},
     "output_type": "display_data"
    },
    {
     "data": {
      "text/html": [
       "<pre style=\"white-space:pre;overflow-x:auto;line-height:normal;font-family:Menlo,'DejaVu Sans Mono',consolas,'Courier New',monospace\"><span style=\"color: #008000; text-decoration-color: #008000; background-color: #000000; font-weight: bold\">(</span><span style=\"color: #008000; text-decoration-color: #008000; background-color: #000000\">'2019'</span><span style=\"color: #008000; text-decoration-color: #008000; background-color: #000000\">, </span><span style=\"color: #008000; text-decoration-color: #008000; background-color: #000000\">'01'</span><span style=\"color: #008000; text-decoration-color: #008000; background-color: #000000\">, </span><span style=\"color: #008000; text-decoration-color: #008000; background-color: #000000\">'02'</span><span style=\"color: #008000; text-decoration-color: #008000; background-color: #000000; font-weight: bold\">)</span><span style=\"color: #008000; text-decoration-color: #008000; background-color: #000000\">: STARTED</span>\n",
       "</pre>\n"
      ],
      "text/plain": [
       "\u001b[1;32;40m(\u001b[0m\u001b[32;40m'2019'\u001b[0m\u001b[32;40m, \u001b[0m\u001b[32;40m'01'\u001b[0m\u001b[32;40m, \u001b[0m\u001b[32;40m'02'\u001b[0m\u001b[1;32;40m)\u001b[0m\u001b[32;40m: STARTED\u001b[0m\n"
      ]
     },
     "metadata": {},
     "output_type": "display_data"
    },
    {
     "data": {
      "text/html": [
       "<pre style=\"white-space:pre;overflow-x:auto;line-height:normal;font-family:Menlo,'DejaVu Sans Mono',consolas,'Courier New',monospace\"><span style=\"color: #008000; text-decoration-color: #008000; background-color: #000000\">&gt;&gt;&gt; Running: </span><span style=\"color: #008080; text-decoration-color: #008080; background-color: #000000; font-weight: bold\">1</span><span style=\"color: #008000; text-decoration-color: #008000; background-color: #000000\">, Completed: </span><span style=\"color: #008080; text-decoration-color: #008080; background-color: #000000; font-weight: bold\">1</span>\n",
       "</pre>\n"
      ],
      "text/plain": [
       "\u001b[32;40m>>> Running: \u001b[0m\u001b[1;36;40m1\u001b[0m\u001b[32;40m, Completed: \u001b[0m\u001b[1;36;40m1\u001b[0m\n"
      ]
     },
     "metadata": {},
     "output_type": "display_data"
    },
    {
     "data": {
      "text/html": [
       "<pre style=\"white-space:pre;overflow-x:auto;line-height:normal;font-family:Menlo,'DejaVu Sans Mono',consolas,'Courier New',monospace\"><span style=\"color: #008000; text-decoration-color: #008000; background-color: #000000\">&gt;&gt;&gt; Running: </span><span style=\"color: #008080; text-decoration-color: #008080; background-color: #000000; font-weight: bold\">0</span><span style=\"color: #008000; text-decoration-color: #008000; background-color: #000000\">, Completed: </span><span style=\"color: #008080; text-decoration-color: #008080; background-color: #000000; font-weight: bold\">2</span>\n",
       "</pre>\n"
      ],
      "text/plain": [
       "\u001b[32;40m>>> Running: \u001b[0m\u001b[1;36;40m0\u001b[0m\u001b[32;40m, Completed: \u001b[0m\u001b[1;36;40m2\u001b[0m\n"
      ]
     },
     "metadata": {},
     "output_type": "display_data"
    },
    {
     "name": "stdout",
     "output_type": "stream",
     "text": [
      "number of results: 2\n",
      "CPU times: user 358 ms, sys: 83.6 ms, total: 441 ms\n",
      "Wall time: 30.6 s\n"
     ]
    }
   ],
   "source": [
    "%%time\n",
    "\n",
    "results = athena.run_daily(\n",
    "    \"kdc-admin\",\n",
    "    \"us-east-2\",\n",
    "    template,\n",
    "    start_date = dt.datetime(2019, 1, 1),\n",
    "    end_date = dt.datetime(2019, 1, 2),\n",
    "    database = \"comscore\",\n",
    "    args = {\n",
    "    },\n",
    "    batch_size = 50\n",
    ")\n",
    "print(f\"number of results: {len(results)}\")"
   ]
  },
  {
   "cell_type": "code",
   "execution_count": 4,
   "id": "7aab3e57-8477-4728-975a-ee5577e145a8",
   "metadata": {},
   "outputs": [
    {
     "name": "stdout",
     "output_type": "stream",
     "text": [
      "download: s3://kdc-comscore/parquet-extracts/url_/year=2019/month=01/day=01/20230117_055525_00007_7jgea_271e412b-4cd5-46b5-b135-15427c82ab1d to output/parquet/url_/year=2019/month=01/day=01/20230117_055525_00007_7jgea_271e412b-4cd5-46b5-b135-15427c82ab1d\n",
      "download: s3://kdc-comscore/parquet-extracts/url_/year=2019/month=01/day=01/20230117_055525_00007_7jgea_39108a85-004f-4d03-9ef2-05f546367edf to output/parquet/url_/year=2019/month=01/day=01/20230117_055525_00007_7jgea_39108a85-004f-4d03-9ef2-05f546367edf\n",
      "download: s3://kdc-comscore/parquet-extracts/url_/year=2019/month=01/day=01/20230117_055525_00007_7jgea_cb1fb8d5-12a6-400d-8d8c-14a1c49f6c7c to output/parquet/url_/year=2019/month=01/day=01/20230117_055525_00007_7jgea_cb1fb8d5-12a6-400d-8d8c-14a1c49f6c7c\n",
      "download: s3://kdc-comscore/parquet-extracts/url_/year=2019/month=01/day=01/20230117_055525_00007_7jgea_37195e09-fc21-4f61-a2c7-316de42872c8 to output/parquet/url_/year=2019/month=01/day=01/20230117_055525_00007_7jgea_37195e09-fc21-4f61-a2c7-316de42872c8\n",
      "download: s3://kdc-comscore/parquet-extracts/url_/year=2019/month=01/day=01/20230117_055525_00007_7jgea_696a4f8a-dc3c-477a-b360-94e3a9a04abe to output/parquet/url_/year=2019/month=01/day=01/20230117_055525_00007_7jgea_696a4f8a-dc3c-477a-b360-94e3a9a04abe\n",
      "download: s3://kdc-comscore/parquet-extracts/url_/year=2019/month=01/day=02/20230117_055525_00007_z97vc_4d5ee79d-4435-44de-9494-abe4e6ef01d0 to output/parquet/url_/year=2019/month=01/day=02/20230117_055525_00007_z97vc_4d5ee79d-4435-44de-9494-abe4e6ef01d0\n",
      "download: s3://kdc-comscore/parquet-extracts/url_/year=2019/month=01/day=02/20230117_055525_00007_z97vc_8781d65b-338d-42bf-b90c-70af2f76375a to output/parquet/url_/year=2019/month=01/day=02/20230117_055525_00007_z97vc_8781d65b-338d-42bf-b90c-70af2f76375a\n",
      "download: s3://kdc-comscore/parquet-extracts/url_/year=2019/month=01/day=01/20230117_055525_00007_7jgea_634ad419-58c3-424d-aa60-cfd9bc992b73 to output/parquet/url_/year=2019/month=01/day=01/20230117_055525_00007_7jgea_634ad419-58c3-424d-aa60-cfd9bc992b73\n",
      "download: s3://kdc-comscore/parquet-extracts/url_/year=2019/month=01/day=01/20230117_055525_00007_7jgea_dc9b8d7b-a9e0-41eb-ac9c-80a95e3df737 to output/parquet/url_/year=2019/month=01/day=01/20230117_055525_00007_7jgea_dc9b8d7b-a9e0-41eb-ac9c-80a95e3df737\n",
      "download: s3://kdc-comscore/parquet-extracts/url_/year=2019/month=01/day=02/20230117_055525_00007_z97vc_88ec9652-3182-46b3-89df-22b6dd6b93a7 to output/parquet/url_/year=2019/month=01/day=02/20230117_055525_00007_z97vc_88ec9652-3182-46b3-89df-22b6dd6b93a7\n",
      "download: s3://kdc-comscore/parquet-extracts/url_/year=2019/month=01/day=01/20230117_055525_00007_7jgea_89af1cd5-2309-4834-8d94-e9e674ff28fc to output/parquet/url_/year=2019/month=01/day=01/20230117_055525_00007_7jgea_89af1cd5-2309-4834-8d94-e9e674ff28fc\n",
      "download: s3://kdc-comscore/parquet-extracts/url_/year=2019/month=01/day=02/20230117_055525_00007_z97vc_8b16db39-7039-43dd-a3fd-45329421f04c to output/parquet/url_/year=2019/month=01/day=02/20230117_055525_00007_z97vc_8b16db39-7039-43dd-a3fd-45329421f04c\n",
      "download: s3://kdc-comscore/parquet-extracts/url_/year=2019/month=01/day=02/20230117_055525_00007_z97vc_677b46d3-06cf-4a5b-9e18-e5398ec20224 to output/parquet/url_/year=2019/month=01/day=02/20230117_055525_00007_z97vc_677b46d3-06cf-4a5b-9e18-e5398ec20224\n",
      "download: s3://kdc-comscore/parquet-extracts/url_/year=2019/month=01/day=02/20230117_055525_00007_z97vc_67b5202c-a0c7-42b4-9378-4a594d516de2 to output/parquet/url_/year=2019/month=01/day=02/20230117_055525_00007_z97vc_67b5202c-a0c7-42b4-9378-4a594d516de2\n",
      "download: s3://kdc-comscore/parquet-extracts/url_/year=2019/month=01/day=02/20230117_055525_00007_z97vc_f245d068-5d37-4dee-9246-3cc1a01f9ffa to output/parquet/url_/year=2019/month=01/day=02/20230117_055525_00007_z97vc_f245d068-5d37-4dee-9246-3cc1a01f9ffa\n",
      "download: s3://kdc-comscore/parquet-extracts/url_/year=2019/month=01/day=02/20230117_055525_00007_z97vc_a3b2139d-ea0a-45b1-b8bf-e9289e2ca2ef to output/parquet/url_/year=2019/month=01/day=02/20230117_055525_00007_z97vc_a3b2139d-ea0a-45b1-b8bf-e9289e2ca2ef\n",
      "download: s3://kdc-comscore/parquet-extracts/url_/year=2019/month=01/day=02/20230117_055525_00007_z97vc_9af4217a-519c-4cbe-b6c3-8e63afd8d8c0 to output/parquet/url_/year=2019/month=01/day=02/20230117_055525_00007_z97vc_9af4217a-519c-4cbe-b6c3-8e63afd8d8c0\n",
      "download: s3://kdc-comscore/parquet-extracts/url_/year=2019/month=01/day=02/20230117_055525_00007_z97vc_d083da99-1a7d-43e3-a115-8609f81e1873 to output/parquet/url_/year=2019/month=01/day=02/20230117_055525_00007_z97vc_d083da99-1a7d-43e3-a115-8609f81e1873\n",
      "download: s3://kdc-comscore/parquet-extracts/url_/year=2019/month=01/day=01/20230117_055525_00007_7jgea_13de696d-50c9-43f7-8bff-57db4c5a2a8a to output/parquet/url_/year=2019/month=01/day=01/20230117_055525_00007_7jgea_13de696d-50c9-43f7-8bff-57db4c5a2a8a\n",
      "download: s3://kdc-comscore/parquet-extracts/url_/year=2019/month=01/day=02/20230117_055525_00007_z97vc_feaf4bfd-1dc2-4fcf-9858-5f08f317ef40 to output/parquet/url_/year=2019/month=01/day=02/20230117_055525_00007_z97vc_feaf4bfd-1dc2-4fcf-9858-5f08f317ef40\n"
     ]
    }
   ],
   "source": [
    "! aws s3 sync s3://kdc-comscore/parquet-extracts ./output/parquet --profile kdc-admin"
   ]
  },
  {
   "cell_type": "code",
   "execution_count": 8,
   "id": "2283493e-f96f-4c9d-966f-c1dca7019e91",
   "metadata": {},
   "outputs": [],
   "source": [
    "df = pd.read_parquet(\"./output/parquet/url_domain_twitch\")"
   ]
  },
  {
   "cell_type": "code",
   "execution_count": 9,
   "id": "6b8c6bb5-b819-4034-a3d0-af5858daac12",
   "metadata": {},
   "outputs": [
    {
     "data": {
      "text/plain": [
       "(873668, 21)"
      ]
     },
     "execution_count": 9,
     "metadata": {},
     "output_type": "execute_result"
    }
   ],
   "source": [
    "df.shape"
   ]
  },
  {
   "cell_type": "code",
   "execution_count": 10,
   "id": "33b0137d-2ba1-4e03-99e1-27deaf054441",
   "metadata": {},
   "outputs": [
    {
     "data": {
      "text/html": [
       "<div>\n",
       "<style scoped>\n",
       "    .dataframe tbody tr th:only-of-type {\n",
       "        vertical-align: middle;\n",
       "    }\n",
       "\n",
       "    .dataframe tbody tr th {\n",
       "        vertical-align: top;\n",
       "    }\n",
       "\n",
       "    .dataframe thead th {\n",
       "        text-align: right;\n",
       "    }\n",
       "</style>\n",
       "<table border=\"1\" class=\"dataframe\">\n",
       "  <thead>\n",
       "    <tr style=\"text-align: right;\">\n",
       "      <th></th>\n",
       "      <th>machine_id</th>\n",
       "      <th>url_idc</th>\n",
       "      <th>person_id</th>\n",
       "      <th>ss2k</th>\n",
       "      <th>time_id</th>\n",
       "      <th>domain_name</th>\n",
       "      <th>url_host</th>\n",
       "      <th>url_dir</th>\n",
       "      <th>url_page</th>\n",
       "      <th>url_refer_domain</th>\n",
       "      <th>...</th>\n",
       "      <th>url_refer_dir</th>\n",
       "      <th>url_refer_page</th>\n",
       "      <th>mimetype</th>\n",
       "      <th>http_rc</th>\n",
       "      <th>keywords</th>\n",
       "      <th>html_title</th>\n",
       "      <th>pattern_id</th>\n",
       "      <th>year</th>\n",
       "      <th>month</th>\n",
       "      <th>day</th>\n",
       "    </tr>\n",
       "  </thead>\n",
       "  <tbody>\n",
       "    <tr>\n",
       "      <th>0</th>\n",
       "      <td>248349067</td>\n",
       "      <td>HNN7xYtNAgxFKQBsiDVyab</td>\n",
       "      <td>452606243</td>\n",
       "      <td>599780225</td>\n",
       "      <td>6941</td>\n",
       "      <td>twitch.tv</td>\n",
       "      <td>pubsub-edge.twitch.tv</td>\n",
       "      <td>/</td>\n",
       "      <td>v1</td>\n",
       "      <td>None</td>\n",
       "      <td>...</td>\n",
       "      <td>None</td>\n",
       "      <td>None</td>\n",
       "      <td>None</td>\n",
       "      <td>101</td>\n",
       "      <td>SECURE</td>\n",
       "      <td>SECURE</td>\n",
       "      <td>10355136</td>\n",
       "      <td>2019</td>\n",
       "      <td>1</td>\n",
       "      <td>1</td>\n",
       "    </tr>\n",
       "    <tr>\n",
       "      <th>1</th>\n",
       "      <td>263072658</td>\n",
       "      <td>mnOnzogikHbGW91fDq5i93</td>\n",
       "      <td>434113017</td>\n",
       "      <td>599786289</td>\n",
       "      <td>6941</td>\n",
       "      <td>twitch.tv</td>\n",
       "      <td>client-event-reporter.twitch.tv</td>\n",
       "      <td>/</td>\n",
       "      <td>/</td>\n",
       "      <td>None</td>\n",
       "      <td>...</td>\n",
       "      <td>None</td>\n",
       "      <td>None</td>\n",
       "      <td>None</td>\n",
       "      <td>200</td>\n",
       "      <td>SECURE</td>\n",
       "      <td>SECURE</td>\n",
       "      <td>10355136</td>\n",
       "      <td>2019</td>\n",
       "      <td>1</td>\n",
       "      <td>1</td>\n",
       "    </tr>\n",
       "    <tr>\n",
       "      <th>2</th>\n",
       "      <td>218778557</td>\n",
       "      <td>2OC8FWVwQumUMTh51$tLf0</td>\n",
       "      <td>392721004</td>\n",
       "      <td>599746847</td>\n",
       "      <td>6941</td>\n",
       "      <td>twitch.tv</td>\n",
       "      <td>pubsub-edge.twitch.tv</td>\n",
       "      <td>/</td>\n",
       "      <td>/</td>\n",
       "      <td>None</td>\n",
       "      <td>...</td>\n",
       "      <td>None</td>\n",
       "      <td>None</td>\n",
       "      <td>None</td>\n",
       "      <td>200</td>\n",
       "      <td>SECURE</td>\n",
       "      <td>SECURE</td>\n",
       "      <td>10355136</td>\n",
       "      <td>2019</td>\n",
       "      <td>1</td>\n",
       "      <td>1</td>\n",
       "    </tr>\n",
       "    <tr>\n",
       "      <th>3</th>\n",
       "      <td>218778557</td>\n",
       "      <td>Mqoo7ZXs4MNoHwDsnHxp0e</td>\n",
       "      <td>392721004</td>\n",
       "      <td>599752699</td>\n",
       "      <td>6941</td>\n",
       "      <td>twitch.tv</td>\n",
       "      <td>pubsub-edge.twitch.tv</td>\n",
       "      <td>/</td>\n",
       "      <td>/</td>\n",
       "      <td>None</td>\n",
       "      <td>...</td>\n",
       "      <td>None</td>\n",
       "      <td>None</td>\n",
       "      <td>None</td>\n",
       "      <td>200</td>\n",
       "      <td>SECURE</td>\n",
       "      <td>SECURE</td>\n",
       "      <td>10355136</td>\n",
       "      <td>2019</td>\n",
       "      <td>1</td>\n",
       "      <td>1</td>\n",
       "    </tr>\n",
       "    <tr>\n",
       "      <th>4</th>\n",
       "      <td>218778557</td>\n",
       "      <td>UwWxtCLDAHbWm95QD7vIf0</td>\n",
       "      <td>392721004</td>\n",
       "      <td>599724558</td>\n",
       "      <td>6941</td>\n",
       "      <td>twitch.tv</td>\n",
       "      <td>pubsub-edge.twitch.tv</td>\n",
       "      <td>/</td>\n",
       "      <td>/</td>\n",
       "      <td>None</td>\n",
       "      <td>...</td>\n",
       "      <td>None</td>\n",
       "      <td>None</td>\n",
       "      <td>None</td>\n",
       "      <td>200</td>\n",
       "      <td>SECURE</td>\n",
       "      <td>SECURE</td>\n",
       "      <td>10355136</td>\n",
       "      <td>2019</td>\n",
       "      <td>1</td>\n",
       "      <td>1</td>\n",
       "    </tr>\n",
       "  </tbody>\n",
       "</table>\n",
       "<p>5 rows × 21 columns</p>\n",
       "</div>"
      ],
      "text/plain": [
       "   machine_id                 url_idc  person_id       ss2k  time_id  \\\n",
       "0   248349067  HNN7xYtNAgxFKQBsiDVyab  452606243  599780225     6941   \n",
       "1   263072658  mnOnzogikHbGW91fDq5i93  434113017  599786289     6941   \n",
       "2   218778557  2OC8FWVwQumUMTh51$tLf0  392721004  599746847     6941   \n",
       "3   218778557  Mqoo7ZXs4MNoHwDsnHxp0e  392721004  599752699     6941   \n",
       "4   218778557  UwWxtCLDAHbWm95QD7vIf0  392721004  599724558     6941   \n",
       "\n",
       "  domain_name                         url_host url_dir url_page  \\\n",
       "0   twitch.tv            pubsub-edge.twitch.tv       /       v1   \n",
       "1   twitch.tv  client-event-reporter.twitch.tv       /        /   \n",
       "2   twitch.tv            pubsub-edge.twitch.tv       /        /   \n",
       "3   twitch.tv            pubsub-edge.twitch.tv       /        /   \n",
       "4   twitch.tv            pubsub-edge.twitch.tv       /        /   \n",
       "\n",
       "  url_refer_domain  ... url_refer_dir url_refer_page mimetype http_rc  \\\n",
       "0             None  ...          None           None     None     101   \n",
       "1             None  ...          None           None     None     200   \n",
       "2             None  ...          None           None     None     200   \n",
       "3             None  ...          None           None     None     200   \n",
       "4             None  ...          None           None     None     200   \n",
       "\n",
       "  keywords html_title pattern_id  year month day  \n",
       "0   SECURE     SECURE   10355136  2019     1   1  \n",
       "1   SECURE     SECURE   10355136  2019     1   1  \n",
       "2   SECURE     SECURE   10355136  2019     1   1  \n",
       "3   SECURE     SECURE   10355136  2019     1   1  \n",
       "4   SECURE     SECURE   10355136  2019     1   1  \n",
       "\n",
       "[5 rows x 21 columns]"
      ]
     },
     "execution_count": 10,
     "metadata": {},
     "output_type": "execute_result"
    }
   ],
   "source": [
    "df.head()"
   ]
  },
  {
   "cell_type": "code",
   "execution_count": null,
   "id": "7d9e5a37-de6e-4c4e-a352-01d5a30ce74a",
   "metadata": {},
   "outputs": [],
   "source": []
  }
 ],
 "metadata": {
  "kernelspec": {
   "display_name": "Python 3 (ipykernel)",
   "language": "python",
   "name": "python3"
  },
  "language_info": {
   "codemirror_mode": {
    "name": "ipython",
    "version": 3
   },
   "file_extension": ".py",
   "mimetype": "text/x-python",
   "name": "python",
   "nbconvert_exporter": "python",
   "pygments_lexer": "ipython3",
   "version": "3.10.8"
  }
 },
 "nbformat": 4,
 "nbformat_minor": 5
}
